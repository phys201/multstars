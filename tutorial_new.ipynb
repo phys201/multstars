{
 "cells": [
  {
   "cell_type": "markdown",
   "metadata": {},
   "source": [
    "# multstars Tutorial\n",
    "\n",
    "### Multstars is a statistical analysis package for Python. With multstars, you can determine the parameters of an underlying Gaussian distribution which would best fit observed projected separations between stellar multiples"
   ]
  },
  {
   "cell_type": "markdown",
   "metadata": {},
   "source": [
    "The likelihood of drawing our data from an underlying gaussian distribution, with center $\\mu$ and width $\\sigma_m$ is:\n",
    "\n",
    "$$L = \\sum^N_{i=1} \\left( \\frac{1}{\\sqrt{2\\pi}(\\sigma_m^2+\\sigma_i^2)} \\, \\exp\\left({-\\frac{(x_i-\\mu)^2}{2(\\sigma_m^2+\\sigma_i^2)}}\\right) \\right)$$"
   ]
  },
  {
   "cell_type": "code",
   "execution_count": null,
   "metadata": {
    "collapsed": true
   },
   "outputs": [],
   "source": [
    "# import multstars"
   ]
  }
 ],
 "metadata": {
  "kernelspec": {
   "display_name": "Python 3",
   "language": "python",
   "name": "python3"
  },
  "language_info": {
   "codemirror_mode": {
    "name": "ipython",
    "version": 3
   },
   "file_extension": ".py",
   "mimetype": "text/x-python",
   "name": "python",
   "nbconvert_exporter": "python",
   "pygments_lexer": "ipython3",
   "version": "3.6.7"
  }
 },
 "nbformat": 4,
 "nbformat_minor": 1
}
