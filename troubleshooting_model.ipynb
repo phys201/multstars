{
 "cells": [
  {
   "cell_type": "markdown",
   "metadata": {},
   "source": [
    "Here I create a dataset which follows a lognormal distribution, truncate it, and then use pymc3 to try and recover the original parameters used to make the dataset."
   ]
  },
  {
   "cell_type": "code",
   "execution_count": 1,
   "metadata": {},
   "outputs": [],
   "source": [
    "# imports\n",
    "%matplotlib inline \n",
    "\n",
    "import numpy as np\n",
    "import matplotlib.pyplot as plt\n",
    "import pandas as pd\n",
    "import seaborn as sns\n",
    "import pymc3 as pm\n",
    "import time\n",
    "from pymc3.distributions.dist_math import normal_lcdf, normal_lccdf\n",
    "import theano.tensor as tt\n",
    "plt.rcParams[\"font.family\"] = \"Times New Roman\"\n",
    "import scipy.stats as st"
   ]
  },
  {
   "cell_type": "markdown",
   "metadata": {},
   "source": [
    "# \"Original Population\" - lognormal distribution"
   ]
  },
  {
   "cell_type": "code",
   "execution_count": 2,
   "metadata": {},
   "outputs": [
    {
     "data": {
      "image/png": "[encoded data removed]",
      "text/plain": [
       "<Figure size 432x288 with 1 Axes>"
      ]
     },
     "metadata": {
      "needs_background": "light"
     },
     "output_type": "display_data"
    }
   ],
   "source": [
    "n = 2000\n",
    "mean = 4\n",
    "sigma = 1\n",
    "\n",
    "population = np.random.lognormal(mean=mean, sigma=sigma, size=n)\n",
    "plt.hist(population, bins=100);\n",
    "plt.xlim(-10, 500);"
   ]
  },
  {
   "cell_type": "markdown",
   "metadata": {},
   "source": [
    "### Truncating it"
   ]
  },
  {
   "cell_type": "code",
   "execution_count": 3,
   "metadata": {
    "scrolled": true
   },
   "outputs": [
    {
     "data": {
      "image/png": "[encoded data removed]",
      "text/plain": [
       "<Figure size 432x288 with 1 Axes>"
      ]
     },
     "metadata": {
      "needs_background": "light"
     },
     "output_type": "display_data"
    }
   ],
   "source": [
    "maximum = 75\n",
    "minimum = 10\n",
    "data_trunc = population[((population<maximum)&(population>minimum))]\n",
    "plt.hist(data_trunc, bins=40);"
   ]
  },
  {
   "cell_type": "markdown",
   "metadata": {},
   "source": [
    "### Now trying to recover the original parameters with Pymc3"
   ]
  },
  {
   "cell_type": "code",
   "execution_count": 4,
   "metadata": {},
   "outputs": [],
   "source": [
    "err = 1\n",
    "\n",
    "def pymc3_trunc_fit(data, tune=1000, nsteps=1000, random_seed=0):\n",
    "\n",
    "\n",
    "    with pm.Model() as hierarchical_model:\n",
    "\n",
    "        # PRIORS\n",
    "        # -------------\n",
    "        # (for normal disribution of log of separations)\n",
    "        width = pm.Gamma('width', mu=1.1, sigma=0.5)\n",
    "        center = pm.Gamma('center', mu=5, sigma=3)\n",
    "        \n",
    "        \n",
    "        # MODEL OF POPULATION\n",
    "        # --------------\n",
    "        sep_physical = pm.Lognormal('sep_physical', mu=center, sigma=width, shape=len(data))\n",
    "    \n",
    "    \n",
    "        # LIKELIHOODS, WITH MEASUREMENT ERROR\n",
    "        # -----------------\n",
    "        sep_observed = pm.Normal('sep_observed', mu=sep_physical, sigma=err, observed=data)\n",
    "        \n",
    "        \n",
    "        # ACCOUNTING FOR TRUNCATION\n",
    "        # ------------------\n",
    "        # integrate out the points which fall outside of the observation limits from the likelihood\n",
    "        # pm.Potential accounts for truncation and normalizes likelihood\n",
    "        truncated_seps = pm.Potential(\n",
    "            'truncated_seps',\n",
    "            -pm.math.logdiffexp(normal_lcdf(sep_physical, err, maximum),\n",
    "                                normal_lcdf(sep_physical, err, minimum)))\n",
    "        \n",
    "        # RUNNING THE FIT\n",
    "        # -------------------\n",
    "        traces = pm.sample(tune=tune, draws=nsteps, step=None, chains=1, random_seed=random_seed)\n",
    "        \n",
    "        # output as dataframe\n",
    "        df = pm.trace_to_dataframe(traces)\n",
    "    return traces, df"
   ]
  },
  {
   "cell_type": "code",
   "execution_count": 5,
   "metadata": {
    "scrolled": true
   },
   "outputs": [
    {
     "name": "stderr",
     "output_type": "stream",
     "text": [
      "Auto-assigning NUTS sampler...\n",
      "Initializing NUTS using jitter+adapt_diag...\n",
      "Sequential sampling (1 chains in 1 job)\n",
      "NUTS: [sep_physical, center, width]\n",
      "Sampling chain 0, 0 divergences: 100%|█████| 2000/2000 [01:08<00:00, 29.24it/s]\n",
      "Only one chain was sampled, this makes it impossible to run some convergence checks\n"
     ]
    },
    {
     "name": "stdout",
     "output_type": "stream",
     "text": [
      "Fit finished, took  1.3  minutes\n"
     ]
    }
   ],
   "source": [
    "ta = time.time()\n",
    "trcs, samples = pymc3_trunc_fit(data_trunc, nsteps=1000)\n",
    "tb = time.time()\n",
    "print('Fit finished, took ',round((tb -ta)/60., 1),' minutes' )"
   ]
  },
  {
   "cell_type": "code",
   "execution_count": 6,
   "metadata": {},
   "outputs": [],
   "source": [
    "# estimate of the MAP\n",
    "q = samples.quantile([0.16,0.50,0.84], axis=0)\n",
    "c_lower, c, c_upper = q['center']\n",
    "w_lower, w, w_upper = q['width']"
   ]
  },
  {
   "cell_type": "code",
   "execution_count": 7,
   "metadata": {},
   "outputs": [
    {
     "data": {
      "image/png": "[encoded data removed]",
      "text/plain": [
       "<Figure size 432x432 with 3 Axes>"
      ]
     },
     "metadata": {
      "needs_background": "light"
     },
     "output_type": "display_data"
    }
   ],
   "source": [
    "sns_plot = sns.jointplot(x='center', y='width', data=samples, kind='kde', color='teal');"
   ]
  },
  {
   "cell_type": "code",
   "execution_count": 8,
   "metadata": {},
   "outputs": [],
   "source": [
    "def plot_lognorm(mu, sigma, data, bins, label):\n",
    "    xs = np.linspace(0, np.max(data), 1000)\n",
    "    pdfn = st.lognorm.pdf(xs, sigma, scale=np.exp(mu))\n",
    "    normedy = len(data)*np.diff(bins)[0]*pdfn\n",
    "    plt.plot(xs, normedy, label=label)"
   ]
  },
  {
   "cell_type": "code",
   "execution_count": 12,
   "metadata": {},
   "outputs": [
    {
     "name": "stdout",
     "output_type": "stream",
     "text": [
      "Original center: 4     Original width: 1\n",
      "Fit center = 3.50 + 0.02 - 0.02\n",
      "Fit width = 0.5 + 0.0 - 0.0\n"
     ]
    },
    {
     "data": {
      "image/png": "[encoded data removed]",
      "text/plain": [
       "<Figure size 504x288 with 1 Axes>"
      ]
     },
     "metadata": {
      "needs_background": "light"
     },
     "output_type": "display_data"
    }
   ],
   "source": [
    "# testing against distributions used to make simulated data\n",
    "fig = plt.figure(figsize=(7, 4))\n",
    "count, bns, ignored = plt.hist(population, histtype='step', label='original population', bins=300, linewidth=1)\n",
    "plot_lognorm(mean, sigma, population, bns, 'original distribution')\n",
    "plot_lognorm(c, w, population, bns, 'fit')\n",
    "plt.xlim(-10, 250)\n",
    "plt.legend();\n",
    "print('Original center:', str(mean), '    Original width:', str(sigma))\n",
    "print(\"Fit center = {:.2f} + {:.2f} - {:.2f}\".format(c, c_upper-c, c-c_lower))\n",
    "print(\"Fit width = {:.1f} + {:.1f} - {:.1f}\".format(w, w_upper-w, w-w_lower))"
   ]
  },
  {
   "cell_type": "code",
   "execution_count": null,
   "metadata": {},
   "outputs": [],
   "source": []
  }
 ],
 "metadata": {
  "kernelspec": {
   "display_name": "Python 3",
   "language": "python",
   "name": "python3"
  },
  "language_info": {
   "codemirror_mode": {
    "name": "ipython",
    "version": 3
   },
   "file_extension": ".py",
   "mimetype": "text/x-python",
   "name": "python",
   "nbconvert_exporter": "python",
   "pygments_lexer": "ipython3",
   "version": "3.7.4"
  }
 },
 "nbformat": 4,
 "nbformat_minor": 2
}
