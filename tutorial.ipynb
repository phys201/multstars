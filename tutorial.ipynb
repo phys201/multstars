{
 "cells": [
  {
   "cell_type": "markdown",
   "metadata": {},
   "source": [
    "# multstars Tutorial\n",
    "\n",
    "### Multstars is a statistical analysis package for Python. With multstars, you can determine the parameters of an underlying Gaussian distribution which would best fit observed projected separations between stellar multiples."
   ]
  },
  {
   "cell_type": "markdown",
   "metadata": {},
   "source": [
    "The likelihood that our data is drawn from a Gaussian distribution with center $\\mu$ and width $\\sigma_m$ is:\n",
    "\n",
    "$$L = \\sum^N_{i=1} \\left( \\frac{1}{\\sqrt{2\\pi}(\\sigma_m^2+\\sigma_i^2)} \\, \\exp\\left({-\\frac{(x_i-\\mu)^2}{2(\\sigma_m^2+\\sigma_i^2)}}\\right) \\right)$$\n"
   ]
  },
  {
   "cell_type": "markdown",
   "metadata": {},
   "source": [
    "First we'll import the required functions and data"
   ]
  },
  {
   "cell_type": "code",
   "execution_count": 1,
   "metadata": {},
   "outputs": [],
   "source": [
    "# import the model\n",
    "import multstars\n",
    "from multstars.data_io import get_example_data_file_path, load_data\n",
    "from multstars.model import log_likelihood, pymc3_fit\n",
    "\n",
    "# additional imports for plotting\n",
    "from scipy.stats import norm\n",
    "import numpy as np\n",
    "import matplotlib.pyplot as plt\n",
    "import seaborn as sns\n",
    "import time"
   ]
  },
  {
   "cell_type": "code",
   "execution_count": 2,
   "metadata": {
    "scrolled": true
   },
   "outputs": [
    {
     "data": {
      "text/html": [
       "<div>\n",
       "<style scoped>\n",
       "    .dataframe tbody tr th:only-of-type {\n",
       "        vertical-align: middle;\n",
       "    }\n",
       "\n",
       "    .dataframe tbody tr th {\n",
       "        vertical-align: top;\n",
       "    }\n",
       "\n",
       "    .dataframe thead th {\n",
       "        text-align: right;\n",
       "    }\n",
       "</style>\n",
       "<table border=\"1\" class=\"dataframe\">\n",
       "  <thead>\n",
       "    <tr style=\"text-align: right;\">\n",
       "      <th></th>\n",
       "      <th>LSPM_ID</th>\n",
       "      <th>SEP_ANG</th>\n",
       "      <th>E_SEP_ANG</th>\n",
       "      <th>PA</th>\n",
       "      <th>E_PA</th>\n",
       "      <th>CONTRAST</th>\n",
       "      <th>E_CONTRAST</th>\n",
       "      <th>SIGNIFICANCE</th>\n",
       "      <th>SEP_PHYSICAL</th>\n",
       "      <th>E_SEP_PHYSICAL</th>\n",
       "      <th>MASSRATIO</th>\n",
       "      <th>E_MASSRATIO</th>\n",
       "      <th>DISTANCE_AGREEMENT</th>\n",
       "      <th>WDS_ID</th>\n",
       "    </tr>\n",
       "  </thead>\n",
       "  <tbody>\n",
       "    <tr>\n",
       "      <td>0</td>\n",
       "      <td>J0324+3804</td>\n",
       "      <td>2.728916</td>\n",
       "      <td>0.07</td>\n",
       "      <td>322.322817</td>\n",
       "      <td>1.0</td>\n",
       "      <td>2.554220</td>\n",
       "      <td>0.078832</td>\n",
       "      <td>20.08</td>\n",
       "      <td>411.959254</td>\n",
       "      <td>2.750505</td>\n",
       "      <td>0.400159</td>\n",
       "      <td>0.018675</td>\n",
       "      <td>2.881536</td>\n",
       "      <td>NaN</td>\n",
       "    </tr>\n",
       "    <tr>\n",
       "      <td>1</td>\n",
       "      <td>J1939+1442</td>\n",
       "      <td>2.339860</td>\n",
       "      <td>0.07</td>\n",
       "      <td>180.081742</td>\n",
       "      <td>1.0</td>\n",
       "      <td>0.077536</td>\n",
       "      <td>0.008469</td>\n",
       "      <td>122.70</td>\n",
       "      <td>118.855224</td>\n",
       "      <td>0.108448</td>\n",
       "      <td>0.979492</td>\n",
       "      <td>0.019073</td>\n",
       "      <td>0.317884</td>\n",
       "      <td>J19392+1443</td>\n",
       "    </tr>\n",
       "    <tr>\n",
       "      <td>2</td>\n",
       "      <td>J1445+4922</td>\n",
       "      <td>0.869634</td>\n",
       "      <td>0.07</td>\n",
       "      <td>231.731009</td>\n",
       "      <td>3.0</td>\n",
       "      <td>0.777437</td>\n",
       "      <td>0.021475</td>\n",
       "      <td>45.90</td>\n",
       "      <td>87.094812</td>\n",
       "      <td>3.740179</td>\n",
       "      <td>0.745236</td>\n",
       "      <td>0.025981</td>\n",
       "      <td>0.838429</td>\n",
       "      <td>NaN</td>\n",
       "    </tr>\n",
       "    <tr>\n",
       "      <td>3</td>\n",
       "      <td>J2026+2730</td>\n",
       "      <td>0.202666</td>\n",
       "      <td>0.07</td>\n",
       "      <td>335.521763</td>\n",
       "      <td>7.0</td>\n",
       "      <td>2.600645</td>\n",
       "      <td>0.545514</td>\n",
       "      <td>NaN</td>\n",
       "      <td>6.204474</td>\n",
       "      <td>0.789402</td>\n",
       "      <td>0.427303</td>\n",
       "      <td>0.050383</td>\n",
       "      <td>NaN</td>\n",
       "      <td>NaN</td>\n",
       "    </tr>\n",
       "    <tr>\n",
       "      <td>4</td>\n",
       "      <td>J0731+3613S</td>\n",
       "      <td>1.526602</td>\n",
       "      <td>0.07</td>\n",
       "      <td>191.217158</td>\n",
       "      <td>2.0</td>\n",
       "      <td>2.701459</td>\n",
       "      <td>0.013702</td>\n",
       "      <td>28.87</td>\n",
       "      <td>18.318636</td>\n",
       "      <td>0.070316</td>\n",
       "      <td>0.402207</td>\n",
       "      <td>0.015455</td>\n",
       "      <td>3.785665</td>\n",
       "      <td>J07319+3613</td>\n",
       "    </tr>\n",
       "  </tbody>\n",
       "</table>\n",
       "</div>"
      ],
      "text/plain": [
       "       LSPM_ID   SEP_ANG  E_SEP_ANG          PA  E_PA  CONTRAST  E_CONTRAST  \\\n",
       "0   J0324+3804  2.728916       0.07  322.322817   1.0  2.554220    0.078832   \n",
       "1   J1939+1442  2.339860       0.07  180.081742   1.0  0.077536    0.008469   \n",
       "2   J1445+4922  0.869634       0.07  231.731009   3.0  0.777437    0.021475   \n",
       "3   J2026+2730  0.202666       0.07  335.521763   7.0  2.600645    0.545514   \n",
       "4  J0731+3613S  1.526602       0.07  191.217158   2.0  2.701459    0.013702   \n",
       "\n",
       "   SIGNIFICANCE  SEP_PHYSICAL  E_SEP_PHYSICAL  MASSRATIO  E_MASSRATIO  \\\n",
       "0         20.08    411.959254        2.750505   0.400159     0.018675   \n",
       "1        122.70    118.855224        0.108448   0.979492     0.019073   \n",
       "2         45.90     87.094812        3.740179   0.745236     0.025981   \n",
       "3           NaN      6.204474        0.789402   0.427303     0.050383   \n",
       "4         28.87     18.318636        0.070316   0.402207     0.015455   \n",
       "\n",
       "   DISTANCE_AGREEMENT       WDS_ID  \n",
       "0            2.881536          NaN  \n",
       "1            0.317884  J19392+1443  \n",
       "2            0.838429          NaN  \n",
       "3                 NaN          NaN  \n",
       "4            3.785665  J07319+3613  "
      ]
     },
     "execution_count": 2,
     "metadata": {},
     "output_type": "execute_result"
    }
   ],
   "source": [
    "data_path = get_example_data_file_path('doubles_test.txt')\n",
    "data = load_data(data_path)\n",
    "data[:5]"
   ]
  },
  {
   "cell_type": "markdown",
   "metadata": {
    "collapsed": true
   },
   "source": [
    "Here we are only looking at the physical separations, let's take a look at their distribution."
   ]
  },
  {
   "cell_type": "code",
   "execution_count": 3,
   "metadata": {},
   "outputs": [
    {
     "data": {
      "image/png": "[encoded data removed]",
      "text/plain": [
       "<Figure size 432x288 with 1 Axes>"
      ]
     },
     "metadata": {
      "needs_background": "light"
     },
     "output_type": "display_data"
    }
   ],
   "source": [
    "data.hist(column='SEP_PHYSICAL', bins=15);"
   ]
  },
  {
   "cell_type": "markdown",
   "metadata": {},
   "source": [
    "Now we're going to look at the likelihoods for several gaussians fit to this distribution"
   ]
  },
  {
   "cell_type": "code",
   "execution_count": 4,
   "metadata": {},
   "outputs": [
    {
     "data": {
      "image/png": "[encoded data removed]",
      "text/plain": [
       "<Figure size 432x288 with 1 Axes>"
      ]
     },
     "metadata": {
      "needs_background": "light"
     },
     "output_type": "display_data"
    }
   ],
   "source": [
    "seps = np.linspace(0, 450, 100)\n",
    "plt.hist(data['SEP_PHYSICAL'], alpha=.2, bins=15)\n",
    "\n",
    "#tuples of the guesses for paramters mean and width of the gaussin\n",
    "parameter_guesses = [[15, 50], [.7, 100], [20, 20], [50, 100]]  \n",
    "\n",
    "for guess in parameter_guesses:\n",
    "    center, width = guess\n",
    "    likelihood_value = round(log_likelihood(data, center, width), 4)\n",
    "    pdf_guess = norm.pdf(seps,center,width)\n",
    "    scale = 22/np.max(pdf_guess)\n",
    "    plt.plot(seps, pdf_guess*scale, label=str(likelihood_value))\n",
    "    plt.xlabel('Projected Separation [AU]')\n",
    "    plt.legend(title='Log Likelihood');"
   ]
  },
  {
   "cell_type": "markdown",
   "metadata": {},
   "source": [
    "So our second guess ($\\mu=20$ and width $\\sigma_m=20$) was the best. But we can do better using emcee."
   ]
  },
  {
   "cell_type": "code",
   "execution_count": 5,
   "metadata": {},
   "outputs": [
    {
     "name": "stderr",
     "output_type": "stream",
     "text": [
      "Auto-assigning NUTS sampler...\n",
      "Initializing NUTS using jitter+adapt_diag...\n",
      "Sequential sampling (1 chains in 1 job)\n",
      "NUTS: [sep_physical, width, center]\n",
      "Sampling chain 0, 365 divergences: 100%|██| 2000/2000 [00:14<00:00, 137.22it/s]\n",
      "There were 365 divergences after tuning. Increase `target_accept` or reparameterize.\n",
      "Only one chain was sampled, this makes it impossible to run some convergence checks\n"
     ]
    },
    {
     "name": "stdout",
     "output_type": "stream",
     "text": [
      "Fit finished, took  0.3  minutes\n"
     ]
    }
   ],
   "source": [
    "estimate = [20, 20]\n",
    "ta = time.time()\n",
    "samples = pymc3_fit(data, nsteps=1000)\n",
    "tb = time.time()\n",
    "print('Fit finished, took ',round((tb-ta)/60., 1),' minutes' )"
   ]
  },
  {
   "cell_type": "code",
   "execution_count": 6,
   "metadata": {},
   "outputs": [
    {
     "name": "stdout",
     "output_type": "stream",
     "text": [
      "center = 24.80 + 73.25 - 83.26\n",
      "width = 324.1 + 638.5 - 228.6\n"
     ]
    },
    {
     "data": {
      "image/png": "[encoded data removed]",
      "text/plain": [
       "<Figure size 432x432 with 3 Axes>"
      ]
     },
     "metadata": {
      "needs_background": "light"
     },
     "output_type": "display_data"
    }
   ],
   "source": [
    "# estimate of the MAP\n",
    "q = samples.quantile([0.16,0.50,0.84], axis=0)\n",
    "c_lower, c, c_upper = q['center']\n",
    "w_lower, w, w_upper = q['width']\n",
    "\n",
    "print(\"center = {:.2f} + {:.2f} - {:.2f}\".format(c, c_upper-c, c-c_lower))\n",
    "print(\"width = {:.1f} + {:.1f} - {:.1f}\".format(w, w_upper-w, w-w_lower))\n",
    "\n",
    "\n",
    "sns.jointplot(x='center', y='width', data=samples, kind='kde');"
   ]
  }
 ],
 "metadata": {
  "kernelspec": {
   "display_name": "Python 3",
   "language": "python",
   "name": "python3"
  },
  "language_info": {
   "codemirror_mode": {
    "name": "ipython",
    "version": 3
   },
   "file_extension": ".py",
   "mimetype": "text/x-python",
   "name": "python",
   "nbconvert_exporter": "python",
   "pygments_lexer": "ipython3",
   "version": "3.7.4"
  }
 },
 "nbformat": 4,
 "nbformat_minor": 1
}
