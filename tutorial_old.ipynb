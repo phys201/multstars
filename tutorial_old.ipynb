{
 "cells": [
  {
   "cell_type": "markdown",
   "metadata": {},
   "source": [
    "# Example (multstars) Package Tutorial\n",
    "\n",
    "This package will focus on modeling calculations using numpy ufuncs and doing posterior calculations. "
   ]
  },
  {
   "cell_type": "code",
   "execution_count": 2,
   "metadata": {},
   "outputs": [],
   "source": [
    "# Import packages\n",
    "%matplotlib inline\n",
    "import numpy as np\n",
    "import matplotlib.pyplot as plt\n",
    "import datetime\n",
    "import emcee\n",
    "import corner\n",
    "import matplotlib as mpl \n",
    "import corner \n",
    "import progressbar\n",
    "from matplotlib.ticker import AutoMinorLocator\n",
    "from matplotlib.ticker import MaxNLocator\n",
    "import cycler as cycler\n",
    "import datetime\n",
    "import pandas as pd\n",
    "\n",
    "mpl.rcParams['figure.figsize'] = 12,8 \n",
    "mpl.rcParams.update({'font.size': 14})"
   ]
  },
  {
   "cell_type": "markdown",
   "metadata": {},
   "source": [
    "We'll set up a function to compute the predictions for $M_1$.  From Gregory eq. 3.27, model 1 predicts the spectral line will have a Gaussian line shape:\n",
    "$$T f_i \\equiv T \\exp\\left\\{\\frac{-(\\nu_i-\\nu_0)^2}{2\\sigma_L^2}\\right\\}$$\n"
   ]
  },
  {
   "cell_type": "code",
   "execution_count": 3,
   "metadata": {},
   "outputs": [],
   "source": [
    "def gaussian_line(channel, strength, center, width):\n",
    "    \"\"\"\n",
    "    Gaussian lineshape\n",
    "    \n",
    "    Parameters\n",
    "    ----------\n",
    "    channel : float or ndarray\n",
    "        channel number\n",
    "    strength : float\n",
    "        strength of signal (parameter T in model)\n",
    "    center : float\n",
    "        center of line (parameter nu_0 in model)\n",
    "    width : float\n",
    "        width of Gaussian line (parameter sigma_L in model)        \n",
    "    \"\"\"\n",
    "    return strength * np.exp(-.5*(channel - center)**2 / width**2)"
   ]
  },
  {
   "cell_type": "code",
   "execution_count": 4,
   "metadata": {},
   "outputs": [
    {
     "name": "stdout",
     "output_type": "stream",
     "text": [
      "0.1353352832366127\n"
     ]
    }
   ],
   "source": [
    "#let's evaluate the model at a single channel\n",
    "print(gaussian_line(35, 1, 37, 1))"
   ]
  },
  {
   "cell_type": "markdown",
   "metadata": {},
   "source": [
    "### Doing posterior calculations\n",
    "We'll make functions to evaluate both of these priors.  The functions will come in handy when we evaluate the posterior probability.  In both cases, we write docstrings so that it's easy for us (or someone else) to see what the function does.\n",
    "\n",
    "- Uniform prior\n",
    "    $$p(T|M_1,I) = \\frac{1}{T_{\\mathrm{max}}-T_{\\mathrm{min}}}$$ \n",
    "\n",
    "- Jeffreys prior\n",
    "    $$p(T|M_1,I) = \\frac{1}{T \\,\\mathrm{ln}(T_{\\mathrm{max}}/T_{\\mathrm{min}})}$$"
   ]
  },
  {
   "cell_type": "code",
   "execution_count": 7,
   "metadata": {},
   "outputs": [],
   "source": [
    "def uniform_prior(x, lower, upper):\n",
    "    \"\"\"\n",
    "    Returns the value of the uniform prior\n",
    "    \n",
    "    Parameters\n",
    "    ----------\n",
    "    x : float or ndarray\n",
    "        value of the parameter\n",
    "    lower, upper : float\n",
    "        values of the upper and lower bounds of the prior\n",
    "    \n",
    "    Returns\n",
    "    -------\n",
    "    float or ndarray : \n",
    "        the value of the prior\n",
    "    \"\"\"\n",
    "    x = np.array(x)\n",
    "    normalization = (upper - lower)\n",
    "    out = np.zeros(x.shape) + ((x >= lower) & (x <= upper)) * 1./normalization\n",
    "    return out\n",
    "\n",
    "def jeffreys_prior(x, lower, upper):\n",
    "    \"\"\"\n",
    "    Returns the value of the Jeffreys prior\n",
    "    \n",
    "    Parameters\n",
    "    ----------\n",
    "    x : float or ndarray\n",
    "        value of the parameter\n",
    "    lower, upper : float\n",
    "        values of the upper and lower bounds of the prior\n",
    "    \n",
    "    Returns\n",
    "    -------\n",
    "    float or ndarray : \n",
    "        the value of the prior   \n",
    "    \"\"\"\n",
    "    x = np.array(x)\n",
    "    normalization = np.log(upper / lower)\n",
    "    out = np.zeros(x.shape) + ((x >= lower) & (x <= upper)) * 1./(x * normalization)\n",
    "    return out"
   ]
  },
  {
   "cell_type": "code",
   "execution_count": 9,
   "metadata": {},
   "outputs": [],
   "source": [
    "#let's get the priors started by defining bounds,\n",
    "prior1 = uniform_prior(0, 10,50)\n",
    "prior2 = jeffreys_prior(1e-5, 1e5,5e5)"
   ]
  },
  {
   "cell_type": "code",
   "execution_count": null,
   "metadata": {},
   "outputs": [],
   "source": []
  }
 ],
 "metadata": {
  "kernelspec": {
   "display_name": "Python 3",
   "language": "python",
   "name": "python3"
  },
  "language_info": {
   "codemirror_mode": {
    "name": "ipython",
    "version": 3
   },
   "file_extension": ".py",
   "mimetype": "text/x-python",
   "name": "python",
   "nbconvert_exporter": "python",
   "pygments_lexer": "ipython3",
   "version": "3.7.6"
  }
 },
 "nbformat": 4,
 "nbformat_minor": 4
}
