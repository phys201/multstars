{
 "cells": [
  {
   "cell_type": "markdown",
   "metadata": {},
   "source": [
    "# multstars Tutorial\n",
    "\n",
    "### Multstars is a statistical analysis package for Python. With multstars, you can determine the parameters of an underlying Gaussian distribution which would best fit projected physical separations and the power law of mass ratio distributions for a set of stellar multiples."
   ]
  },
  {
   "cell_type": "markdown",
   "metadata": {},
   "source": [
    "The likelihood that our data, specifically the projected separations ($x_i$) with measured uncertainties ($\\sigma_i$), are drawn from a Gaussian distribution with center $\\mu$ and width $\\sigma_m$ is:\n",
    "\n",
    "$$L = \\prod^N_{i=1} \\left( \\frac{1}{\\sqrt{2\\pi(\\sigma_m^2+\\sigma_i^2)}} \\, \\exp\\left({-\\frac{(x_i-\\mu)^2}{2(\\sigma_m^2+\\sigma_i^2)}}\\right) \\right)$$\n"
   ]
  },
  {
   "cell_type": "markdown",
   "metadata": {},
   "source": [
    "Our likelihood function is Gaussian because projected separations between binaries are assumed to follow a Gaussian distribution (e.g. Berfors et al. 2013). We included the uncertainties on our data following the example of Hogg, Bovy and Lang (HBL) 2010. Equation 17 of HBL includes a generative model for data points that are assumed to follow a Gaussian distribution."
   ]
  },
  {
   "cell_type": "markdown",
   "metadata": {},
   "source": [
    "First we'll import the required functions and data"
   ]
  },
  {
   "cell_type": "code",
   "execution_count": 1,
   "metadata": {},
   "outputs": [],
   "source": [
    "# import the model\n",
    "import multstars\n",
    "from multstars.data_io import get_example_data_file_path, load_data\n",
    "from multstars.model import pymc3_hrchl_fit\n",
    "\n",
    "# additional imports for plotting\n",
    "from scipy.stats import norm\n",
    "import numpy as np\n",
    "import matplotlib.pyplot as plt\n",
    "import seaborn as sns\n",
    "import time\n",
    "\n",
    "%matplotlib inline"
   ]
  },
  {
   "cell_type": "code",
   "execution_count": 2,
   "metadata": {
    "scrolled": true
   },
   "outputs": [
    {
     "data": {
      "text/html": [
       "<div>\n",
       "<style scoped>\n",
       "    .dataframe tbody tr th:only-of-type {\n",
       "        vertical-align: middle;\n",
       "    }\n",
       "\n",
       "    .dataframe tbody tr th {\n",
       "        vertical-align: top;\n",
       "    }\n",
       "\n",
       "    .dataframe thead th {\n",
       "        text-align: right;\n",
       "    }\n",
       "</style>\n",
       "<table border=\"1\" class=\"dataframe\">\n",
       "  <thead>\n",
       "    <tr style=\"text-align: right;\">\n",
       "      <th></th>\n",
       "      <th>Unnamed: 0</th>\n",
       "      <th>asep</th>\n",
       "      <th>asep_err</th>\n",
       "      <th>cr</th>\n",
       "      <th>cr_err</th>\n",
       "      <th>parallax</th>\n",
       "    </tr>\n",
       "  </thead>\n",
       "  <tbody>\n",
       "    <tr>\n",
       "      <td>0</td>\n",
       "      <td>0</td>\n",
       "      <td>0.710243</td>\n",
       "      <td>0.07</td>\n",
       "      <td>1.506842</td>\n",
       "      <td>0.025598</td>\n",
       "      <td>0.015605</td>\n",
       "    </tr>\n",
       "    <tr>\n",
       "      <td>1</td>\n",
       "      <td>2</td>\n",
       "      <td>0.310770</td>\n",
       "      <td>0.07</td>\n",
       "      <td>1.468198</td>\n",
       "      <td>0.060406</td>\n",
       "      <td>0.014727</td>\n",
       "    </tr>\n",
       "    <tr>\n",
       "      <td>2</td>\n",
       "      <td>10</td>\n",
       "      <td>2.533489</td>\n",
       "      <td>0.07</td>\n",
       "      <td>1.060899</td>\n",
       "      <td>0.004204</td>\n",
       "      <td>0.039419</td>\n",
       "    </tr>\n",
       "    <tr>\n",
       "      <td>3</td>\n",
       "      <td>12</td>\n",
       "      <td>1.212638</td>\n",
       "      <td>0.07</td>\n",
       "      <td>2.054225</td>\n",
       "      <td>0.016028</td>\n",
       "      <td>0.020550</td>\n",
       "    </tr>\n",
       "    <tr>\n",
       "      <td>4</td>\n",
       "      <td>13</td>\n",
       "      <td>0.830799</td>\n",
       "      <td>0.07</td>\n",
       "      <td>2.412305</td>\n",
       "      <td>0.003023</td>\n",
       "      <td>0.024413</td>\n",
       "    </tr>\n",
       "  </tbody>\n",
       "</table>\n",
       "</div>"
      ],
      "text/plain": [
       "   Unnamed: 0      asep  asep_err        cr    cr_err  parallax\n",
       "0           0  0.710243      0.07  1.506842  0.025598  0.015605\n",
       "1           2  0.310770      0.07  1.468198  0.060406  0.014727\n",
       "2          10  2.533489      0.07  1.060899  0.004204  0.039419\n",
       "3          12  1.212638      0.07  2.054225  0.016028  0.020550\n",
       "4          13  0.830799      0.07  2.412305  0.003023  0.024413"
      ]
     },
     "execution_count": 2,
     "metadata": {},
     "output_type": "execute_result"
    }
   ],
   "source": [
    "data_path = get_example_data_file_path('hm_data_test.txt')\n",
    "data = load_data(data_path)\n",
    "data[:5]"
   ]
  },
  {
   "cell_type": "markdown",
   "metadata": {
    "collapsed": true
   },
   "source": [
    "Here are the main measurements we will use to fit our model:"
   ]
  },
  {
   "cell_type": "code",
   "execution_count": 3,
   "metadata": {},
   "outputs": [
    {
     "data": {
      "image/png": "[encoded data removed]",
      "text/plain": [
       "<Figure size 432x288 with 1 Axes>"
      ]
     },
     "metadata": {
      "needs_background": "light"
     },
     "output_type": "display_data"
    }
   ],
   "source": [
    "plt.errorbar(data['asep'], data['cr'], yerr=data['cr_err'], \n",
    "             marker='.', mec='r', ms=2, ls='none', linewidth=1, ecolor='grey')\n",
    "plt.ylim(7, -0.2); plt.xlim(-0.1, 4)\n",
    "plt.xlabel('Separation [\"]'); plt.ylabel('Contrast [delta mag]');"
   ]
  },
  {
   "cell_type": "markdown",
   "metadata": {},
   "source": [
    "However, we want to determine parameters on physical characteristics - mass ratios and phsyical separations, not contrast ratios and angular separations. There are several transformations which need to be done to transform between these and account for observation limitations. Therefore, we will use a hierarchical model. To see the transformations used in this hierarchical model, see `hierarchical_model_steps.ipynb`. "
   ]
  },
  {
   "cell_type": "markdown",
   "metadata": {},
   "source": [
    "Running the hierarchical model, which, for now, just fits the physical separations:"
   ]
  },
  {
   "cell_type": "code",
   "execution_count": 4,
   "metadata": {},
   "outputs": [
    {
     "name": "stderr",
     "output_type": "stream",
     "text": [
      "Auto-assigning NUTS sampler...\n",
      "Initializing NUTS using jitter+adapt_diag...\n",
      "Sequential sampling (1 chains in 1 job)\n",
      "NUTS: [n_high, n_low, sep_physical, width, center]\n",
      "Sampling chain 0, 353 divergences: 100%|███| 2000/2000 [00:23<00:00, 85.99it/s]\n",
      "There were 354 divergences after tuning. Increase `target_accept` or reparameterize.\n",
      "Only one chain was sampled, this makes it impossible to run some convergence checks\n"
     ]
    },
    {
     "name": "stdout",
     "output_type": "stream",
     "text": [
      "Fit finished, took  0.5  minutes\n"
     ]
    }
   ],
   "source": [
    "ta = time.time()\n",
    "samples = pymc3_hrchl_fit(data, nsteps=1000)\n",
    "tb = time.time()\n",
    "print('Fit finished, took ',round((tb-ta)/60., 1),' minutes' )"
   ]
  },
  {
   "cell_type": "markdown",
   "metadata": {},
   "source": [
    "...and looking at results"
   ]
  },
  {
   "cell_type": "code",
   "execution_count": 5,
   "metadata": {},
   "outputs": [],
   "source": [
    "# estimate of the MAP\n",
    "q = samples.quantile([0.16,0.50,0.84], axis=0)\n",
    "c_lower, c, c_upper = q['center']\n",
    "w_lower, w, w_upper = q['width']"
   ]
  },
  {
   "cell_type": "code",
   "execution_count": 6,
   "metadata": {},
   "outputs": [
    {
     "name": "stdout",
     "output_type": "stream",
     "text": [
      "center = 36.90 + 50.12 - 55.73\n",
      "width = 66.9 + 76.0 - 46.5\n"
     ]
    },
    {
     "data": {
      "image/png": "[encoded data removed]",
      "text/plain": [
       "<Figure size 432x432 with 3 Axes>"
      ]
     },
     "metadata": {
      "needs_background": "light"
     },
     "output_type": "display_data"
    }
   ],
   "source": [
    "sns.jointplot(x='center', y='width', data=samples, kind='kde');\n",
    "\n",
    "print(\"center = {:.2f} + {:.2f} - {:.2f}\".format(c, c_upper-c, c-c_lower))\n",
    "print(\"width = {:.1f} + {:.1f} - {:.1f}\".format(w, w_upper-w, w-w_lower))"
   ]
  },
  {
   "cell_type": "markdown",
   "metadata": {},
   "source": [
    "This test data was generated in `hierarchical_model_steps.ipynb`, with the parameters:\n",
    "\n",
    "Center = 25 <br>\n",
    "Width = 30"
   ]
  },
  {
   "cell_type": "code",
   "execution_count": null,
   "metadata": {},
   "outputs": [],
   "source": []
  }
 ],
 "metadata": {
  "kernelspec": {
   "display_name": "Python 3",
   "language": "python",
   "name": "python3"
  },
  "language_info": {
   "codemirror_mode": {
    "name": "ipython",
    "version": 3
   },
   "file_extension": ".py",
   "mimetype": "text/x-python",
   "name": "python",
   "nbconvert_exporter": "python",
   "pygments_lexer": "ipython3",
   "version": "3.7.4"
  }
 },
 "nbformat": 4,
 "nbformat_minor": 1
}
